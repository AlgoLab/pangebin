{
 "cells": [
  {
   "cell_type": "code",
   "execution_count": 4,
   "metadata": {},
   "outputs": [],
   "source": [
    "\"\"\"Ground truth create module.\"\"\"\n",
    "\n",
    "from __future__ import annotations\n",
    "\n",
    "import time\n",
    "from typing import TYPE_CHECKING\n",
    "\n",
    "from Bio import Entrez, SeqIO\n",
    "\n",
    "if TYPE_CHECKING:\n",
    "    from collections.abc import Iterable\n",
    "    from pathlib import Path\n",
    "\n",
    "import logging\n",
    "\n",
    "_LOGGER = logging.getLogger(__name__)\n",
    "\n",
    "\n",
    "Entrez.email = \"mttsgro@gmail.com\"\n",
    "Entrez.tool = \"plasbin-flow@pangenome\"\n",
    "Entrez.api_key = \"7c5ce3b0327c240c68dc660082564a0bda08\"\n",
    "WAIT_TIME = 0.5"
   ]
  },
  {
   "cell_type": "code",
   "execution_count": 6,
   "metadata": {},
   "outputs": [],
   "source": [
    "test_Id = \"SAMN16357463\"\n",
    "def src(database, term, retmax=10000):\n",
    "    \"\"\"Searches entrez for a term and returns the results.\"\"\"\n",
    "    time.sleep(WAIT_TIME)\n",
    "    handle = Entrez.esearch(db=database, retmax=retmax, term=term)\n",
    "    record = Entrez.read(handle, validate=False)\n",
    "    handle.close()\n",
    "    return record\n",
    "\n",
    "def summ(database, id, retmax=10000):\n",
    "    \"\"\"Retrieves a summary of an assembly from entrez.\"\"\"\n",
    "    time.sleep(WAIT_TIME)\n",
    "    handle = Entrez.esummary(db=database, retmax=retmax, id=id)\n",
    "    record = Entrez.read(handle, validate=False)\n",
    "    handle.close()\n",
    "    return record\n"
   ]
  },
  {
   "cell_type": "code",
   "execution_count": null,
   "metadata": {},
   "outputs": [],
   "source": [
    "# import sys\n",
    "# import argparse as ap\n",
    "# import time\n",
    "# import subprocess\n",
    "\n",
    "# import entrez_utils as ez\n",
    "\n",
    "# def main(args):\n",
    "#   accession = args.input\n",
    "\n",
    "#   assemblies = get_assembly_from_name(str(accession))\n",
    "#   if assemblies is not None:\n",
    "#     ret_string = str(download_assembly(assemblies[0]))\n",
    "#     if ret_string == \"None\":\n",
    "#       # print('0', end='')\n",
    "#       pass\n",
    "#     else:\n",
    "#       subprocess.call([\"curl\", ret_string, \"--output\", args.output])  # noqa: ERA001\n",
    "#       # rsync -vPp --chmod=u+w \\$link ${genomic_fna_gz}\n",
    "#       # print(\"\")\n",
    "#       # print(ret_string, end=\"\")\n",
    "#   else:\n",
    "#     pass\n",
    "#     # print('-1', end='')\n",
    "\n",
    "\n",
    "# def get_assembly_from_name(name: str):\n",
    "#   \"\"\"Returns an assembly id from entrez\"\"\"\n",
    "#   assembly_id = ez.src(\"assembly\", name)[\"IdList\"]\n",
    "#   if len(assembly_id) == 0:\n",
    "#     return None\n",
    "#   elif len(assembly_id) >= 1:\n",
    "#     return assembly_id\n",
    "\n",
    "# def get_assembly_summary(assembly_id):\n",
    "#   \"\"\"Returns an assembly summary object from entrez\"\"\"\n",
    "#   return ez.AssemblyObject(ez.summ(\"assembly\", assembly_id))\n",
    "\n",
    "# def download_assembly(assembly_id):\n",
    "#   \"\"\"Downloads an assembly from entrez\"\"\"\n",
    "#   try:\n",
    "#     summary = get_assembly_summary(assembly_id)  # noqa: ERA001\n",
    "#   except:\n",
    "#     summary = \"\"\n",
    "#     return None\n",
    "#   if len(summary.refseq_rsync) > 0:\n",
    "#     assembly_filename = summary.refseq_filename[:-3]\n",
    "#     tmp_rsync = summary.refseq_rsync\n",
    "#     tmp_file_gz = summary.refseq_filename\n",
    "#     return (tmp_rsync)\n",
    "#   elif len(summary.genebank_rsync) > 0:\n",
    "#     assembly_filename = summary.genebank_filename[:-3]\n",
    "#     tmp_rsync = summary.genebank_rsync\n",
    "#     tmp_file_gz = summary.genebank_filename\n",
    "#     return (tmp_rsync)\n",
    "#   else:\n",
    "#     return None\n",
    "\n",
    "# if __name__ == \"__main__\":\n",
    "#   parser = ap.ArgumentParser(description=\"ncbi genome retrival script\")\n",
    "#   parser.add_argument(\"--input\")\n",
    "#   parser.add_argument(\"--output\")\n",
    "#   args = parser.parse_args()\n",
    "\n",
    "#   main(args)"
   ]
  },
  {
   "cell_type": "code",
   "execution_count": 32,
   "metadata": {},
   "outputs": [
    {
     "name": "stdout",
     "output_type": "stream",
     "text": [
      "13191254 it's illumina!\n",
      "13191253 it's illumina!\n"
     ]
    }
   ],
   "source": [
    "assembly_id = src(\"SRA\", test_Id)\n",
    "assembly_id_list = assembly_id[\"IdList\"]\n",
    "for x in assembly_id_list:\n",
    "    assembly_summary = summ(\"SRA\", x)\n",
    "    if str(assembly_summary).lower().find(\"illumina\"):\n",
    "        print(x, \"it's illumina!\")\n",
    "    else:\n",
    "        print(y, \"it's not illumina\")"
   ]
  },
  {
   "cell_type": "code",
   "execution_count": 27,
   "metadata": {},
   "outputs": [
    {
     "name": "stdout",
     "output_type": "stream",
     "text": [
      "[{'Item': [], 'Id': '13101253', 'ExpXml': '<Summary><Title>Fluidigm_Illumina-Seq of Ixodes scapularis: CCAAGAAGAA</Title><Platform instrument_model=\"Illumina HiSeq 2500\">ILLUMINA</Platform><Statistics total_runs=\"1\" total_spots=\"63851\" total_bases=\"33202520\" total_size=\"18578614\" load_done=\"true\" cluster_name=\"public\"/></Summary><Submitter acc=\"SRA1190107\" center_name=\"University of Illinois at Urbana-Champaign\" contact_name=\"Lisa Page Fredericks\" lab_name=\"Entomology\"/><Experiment acc=\"SRX9998771\" ver=\"1\" status=\"public\" name=\"Fluidigm_Illumina-Seq of Ixodes scapularis: CCAAGAAGAA\"/><Study acc=\"SRP304155\" name=\"bacterial and protozoal tick-borne organisms of varying pathogenicity Targeted loci environmental\"/><Organism taxid=\"1595979\" ScientificName=\"tick metagenome\"/><Sample acc=\"SRS8168919\" name=\"\"/><Instrument ILLUMINA=\"Illumina HiSeq 2500\"/><Library_descriptor><LIBRARY_NAME>15SF2-RmonOB2F_RmonOB2R</LIBRARY_NAME><LIBRARY_STRATEGY>AMPLICON</LIBRARY_STRATEGY><LIBRARY_SOURCE>GENOMIC</LIBRARY_SOURCE><LIBRARY_SELECTION>PCR</LIBRARY_SELECTION><LIBRARY_LAYOUT> <PAIRED/> </LIBRARY_LAYOUT></Library_descriptor><Bioproject>PRJNA691281</Bioproject><Biosample>SAMN17287305</Biosample>', 'Runs': '<Run acc=\"SRR13604556\" total_spots=\"63851\" total_bases=\"33202520\" load_done=\"true\" is_public=\"true\" cluster_name=\"public\" static_data_available=\"true\"/>', 'ExtLinks': '', 'CreateDate': '2022/03/01', 'UpdateDate': '2021/02/01'}]\n"
     ]
    }
   ],
   "source": [
    "print(summ(\"SRA\", \"13101253\"))"
   ]
  },
  {
   "cell_type": "code",
   "execution_count": 28,
   "metadata": {},
   "outputs": [
    {
     "name": "stdout",
     "output_type": "stream",
     "text": [
      "[{'Item': [], 'Id': '13101254', 'ExpXml': '<Summary><Title>Fluidigm_Illumina-Seq of Ixodes scapularis: CCAAGAAGAA</Title><Platform instrument_model=\"Illumina HiSeq 2500\">ILLUMINA</Platform><Statistics total_runs=\"1\" total_spots=\"8\" total_bases=\"4160\" total_size=\"81475\" load_done=\"true\" cluster_name=\"public\"/></Summary><Submitter acc=\"SRA1190107\" center_name=\"University of Illinois at Urbana-Champaign\" contact_name=\"Lisa Page Fredericks\" lab_name=\"Entomology\"/><Experiment acc=\"SRX9998772\" ver=\"1\" status=\"public\" name=\"Fluidigm_Illumina-Seq of Ixodes scapularis: CCAAGAAGAA\"/><Study acc=\"SRP304155\" name=\"bacterial and protozoal tick-borne organisms of varying pathogenicity Targeted loci environmental\"/><Organism taxid=\"1595979\" ScientificName=\"tick metagenome\"/><Sample acc=\"SRS8168919\" name=\"\"/><Instrument ILLUMINA=\"Illumina HiSeq 2500\"/><Library_descriptor><LIBRARY_NAME>15SF2-RparOB2F_RparOB2R</LIBRARY_NAME><LIBRARY_STRATEGY>AMPLICON</LIBRARY_STRATEGY><LIBRARY_SOURCE>GENOMIC</LIBRARY_SOURCE><LIBRARY_SELECTION>PCR</LIBRARY_SELECTION><LIBRARY_LAYOUT> <PAIRED/> </LIBRARY_LAYOUT></Library_descriptor><Bioproject>PRJNA691281</Bioproject><Biosample>SAMN17287305</Biosample>', 'Runs': '<Run acc=\"SRR13604555\" total_spots=\"8\" total_bases=\"4160\" load_done=\"true\" is_public=\"true\" cluster_name=\"public\" static_data_available=\"true\"/>', 'ExtLinks': '', 'CreateDate': '2022/03/01', 'UpdateDate': '2021/02/01'}]\n"
     ]
    }
   ],
   "source": [
    "print(summ(\"SRA\", \"13101254\"))"
   ]
  },
  {
   "cell_type": "code",
   "execution_count": 36,
   "metadata": {},
   "outputs": [
    {
     "name": "stdout",
     "output_type": "stream",
     "text": [
      "{'Count': '2', 'RetMax': '2', 'RetStart': '0', 'IdList': ['13191254', '13191253'], 'TranslationSet': [], 'TranslationStack': [{'Term': 'SAMN16357463[All Fields]', 'Field': 'All Fields', 'Count': '2', 'Explode': 'N'}, 'GROUP'], 'QueryTranslation': 'SAMN16357463[All Fields]'}\n"
     ]
    },
    {
     "data": {
      "text/plain": [
       "{'DocumentSummarySet': DictElement({'DocumentSummary': [DictElement({'Title': 'Pathogen: environmental/food/other sample from Campylobacter coli', 'Accession': 'SAMN13191254', 'Date': '2019/11/04', 'PublicationDate': '2019/11/04', 'ModificationDate': '2024/08/08', 'Organization': 'USDA FSIS', 'Taxonomy': '195', 'Organism': 'Campylobacter coli', 'SourceSample': 'BioSample:SAMN13191254', 'SampleData': '<BioSample access=\"public\" publication_date=\"2019-11-04T00:00:00.000\" last_update=\"2024-08-08T17:08:17.071\" submission_date=\"2019-11-04T09:58:04.666\" id=\"13191254\" accession=\"SAMN13191254\">   <Ids>     <Id db=\"BioSample\" is_primary=\"1\">SAMN13191254</Id>     <Id db_label=\"Sample name\">FSIS21925885</Id>     <Id db=\"SRA\">SRS5611155</Id>   </Ids>   <Description>     <Title>Pathogen: environmental/food/other sample from Campylobacter coli</Title>     <Organism taxonomy_id=\"195\" taxonomy_name=\"Campylobacter coli\">       <OrganismName>Campylobacter coli</OrganismName>     </Organism>   </Description>   <Owner>     <Name>USDA FSIS</Name>     <Contacts>       <Contact>         <Name>           <First>Glenn</First>           <Last>Tillman</Last>         </Name>       </Contact>     </Contacts>   </Owner>   <Models>     <Model>Pathogen.env</Model>   </Models>   <Package display_name=\"Pathogen: environmental/food/other; version 1.0\">Pathogen.env.1.0</Package>   <Attributes>     <Attribute attribute_name=\"strain\" harmonized_name=\"strain\" display_name=\"strain\">FSIS21925885</Attribute>     <Attribute attribute_name=\"collected_by\" harmonized_name=\"collected_by\" display_name=\"collected by\">USDA-FSIS</Attribute>     <Attribute attribute_name=\"collection_date\" harmonized_name=\"collection_date\" display_name=\"collection date\">2019-10</Attribute>     <Attribute attribute_name=\"geo_loc_name\" harmonized_name=\"geo_loc_name\" display_name=\"geographic location\">USA:MS</Attribute>     <Attribute attribute_name=\"isolation_source\" harmonized_name=\"isolation_source\" display_name=\"isolation source\">raw intact chicken</Attribute>     <Attribute attribute_name=\"lat_lon\" harmonized_name=\"lat_lon\" display_name=\"latitude and longitude\">missing</Attribute>     <Attribute attribute_name=\"project_name\" harmonized_name=\"project_name\" display_name=\"project name\">FSIS Product/Environmental Sampling</Attribute>     <Attribute attribute_name=\"sequenced_by\" harmonized_name=\"sequenced_by\" display_name=\"sequenced by\">United States Department of Agriculture|Food Safety and Inspection Service</Attribute>     <Attribute attribute_name=\"source_type\" harmonized_name=\"source_type\" display_name=\"source type\">food</Attribute>     <Attribute attribute_name=\"food_origin\" harmonized_name=\"food_origin\" display_name=\"food product origin geographic location\">USA:MS</Attribute>     <Attribute attribute_name=\"purpose_of_sampling\" harmonized_name=\"purpose_of_sampling\" display_name=\"purpose of sampling\">Exploratory Sampling</Attribute>   </Attributes>   <Links>     <Link type=\"entrez\" target=\"bioproject\" label=\"PRJNA287430\">287430</Link>   </Links>   <Status status=\"live\" when=\"2019-11-04T09:58:04.667\"/> </BioSample> ', 'Identifiers': 'BioSample: SAMN13191254; Sample name: FSIS21925885; SRA: SRS5611155', 'Infraspecies': 'strain: FSIS21925885', 'Package': 'Pathogen: environmental/food/other; version 1.0', 'SortKey': '120240808'}, attributes={'uid': '13191254'})], 'DbBuild': 'Build250218-0301m.1'}, attributes={'status': 'OK'})}"
      ]
     },
     "execution_count": 36,
     "metadata": {},
     "output_type": "execute_result"
    }
   ],
   "source": [
    "print(assembly_id)\n",
    "summ(\"BioSample\", assembly_id_list[0])"
   ]
  },
  {
   "cell_type": "code",
   "execution_count": 37,
   "metadata": {},
   "outputs": [
    {
     "name": "stdout",
     "output_type": "stream",
     "text": [
      "{'Count': '1', 'RetMax': '1', 'RetStart': '0', 'IdList': ['16357463'], 'TranslationSet': [], 'TranslationStack': [{'Term': 'SAMN16357463[All Fields]', 'Field': 'All Fields', 'Count': '1', 'Explode': 'N'}, 'GROUP'], 'QueryTranslation': 'SAMN16357463[All Fields]'}\n"
     ]
    }
   ],
   "source": [
    "assembly_id = src(\"BioSample\", test_Id)\n",
    "print(assembly_id)\n"
   ]
  },
  {
   "cell_type": "code",
   "execution_count": null,
   "metadata": {},
   "outputs": [
    {
     "name": "stdout",
     "output_type": "stream",
     "text": [
      "{'DocumentSummarySet': DictElement({'DocumentSummary': [DictElement({'Title': 'Pathogen: clinical or host-associated sample from Klebsiella pneumoniae', 'Accession': 'SAMN16357463', 'Date': '2020/10/03', 'PublicationDate': '2020/10/03', 'ModificationDate': '2021/02/09', 'Organization': 'FDA-ARGOS Database', 'Taxonomy': '573', 'Organism': 'Klebsiella pneumoniae', 'SourceSample': 'BioSample:SAMN16357463', 'SampleData': '<BioSample access=\"public\" publication_date=\"2020-10-03T00:00:00.000\" last_update=\"2021-02-09T22:38:15.813\" submission_date=\"2020-10-03T14:56:14.330\" id=\"16357463\" accession=\"SAMN16357463\">   <Ids>     <Id db=\"BioSample\" is_primary=\"1\">SAMN16357463</Id>     <Id db_label=\"Sample name\">FDAARGOS_1321</Id>     <Id db=\"SRA\">SRS8225883</Id>   </Ids>   <Description>     <Title>Pathogen: clinical or host-associated sample from Klebsiella pneumoniae</Title>     <Organism taxonomy_id=\"573\" taxonomy_name=\"Klebsiella pneumoniae\">       <OrganismName>Klebsiella pneumoniae</OrganismName>     </Organism>     <Comment>       <Paragraph>KbGH0499</Paragraph>     </Comment>   </Description>   <Owner>     <Name url=\"https://www.nature.com/articles/s41467-019-11306-6\" abbreviation=\"FDA_ARGOS\">FDA-ARGOS Database</Name>   </Owner>   <Models>     <Model>Pathogen.cl</Model>   </Models>   <Package display_name=\"Pathogen: clinical or host-associated; version 1.0\">Pathogen.cl.1.0</Package>   <Attributes>     <Attribute attribute_name=\"strain\" harmonized_name=\"strain\" display_name=\"strain\">FDAARGOS_1321</Attribute>     <Attribute attribute_name=\"isolate\" harmonized_name=\"isolate\" display_name=\"isolate\">Not applicable</Attribute>     <Attribute attribute_name=\"collected_by\" harmonized_name=\"collected_by\" display_name=\"collected by\">ARMADA</Attribute>     <Attribute attribute_name=\"collection_date\" harmonized_name=\"collection_date\" display_name=\"collection date\">Unknown</Attribute>     <Attribute attribute_name=\"geo_loc_name\" harmonized_name=\"geo_loc_name\" display_name=\"geographic location\">USA:WA</Attribute>     <Attribute attribute_name=\"isolation_source\" harmonized_name=\"isolation_source\" display_name=\"isolation source\">missing</Attribute>     <Attribute attribute_name=\"lat_lon\" harmonized_name=\"lat_lon\" display_name=\"latitude and longitude\">Not applicable</Attribute>     <Attribute attribute_name=\"culture_collection\" harmonized_name=\"culture_collection\" display_name=\"culture collection\">FDA:FDAARGOS_1321</Attribute>     <Attribute attribute_name=\"host\" harmonized_name=\"host\" display_name=\"host\">Homo sapiens</Attribute>     <Attribute attribute_name=\"host_age\" harmonized_name=\"host_age\" display_name=\"host age\">Unknown</Attribute>     <Attribute attribute_name=\"host_description\" harmonized_name=\"host_description\" display_name=\"host description\">Not applicable</Attribute>     <Attribute attribute_name=\"host_disease\" harmonized_name=\"host_disease\" display_name=\"host disease\">Unknown</Attribute>     <Attribute attribute_name=\"host_disease_outcome\" harmonized_name=\"host_disease_outcome\" display_name=\"host disease outcome\">Unknown</Attribute>     <Attribute attribute_name=\"host_disease_stage\" harmonized_name=\"host_disease_stage\" display_name=\"host disease stage\">Unknown</Attribute>     <Attribute attribute_name=\"host_health_state\" harmonized_name=\"host_health_state\" display_name=\"host health state\">Unknown</Attribute>     <Attribute attribute_name=\"host_sex\" harmonized_name=\"host_sex\" display_name=\"host sex\">Unknown</Attribute>     <Attribute attribute_name=\"identification method\">Phenotypic and Molecular Methods</Attribute>   </Attributes>   <Links>     <Link type=\"entrez\" target=\"bioproject\" label=\"PRJNA231221\">231221</Link>   </Links>   <Status status=\"live\" when=\"2020-10-03T14:56:14.330\"/> </BioSample> ', 'Identifiers': 'BioSample: SAMN16357463; Sample name: FDAARGOS_1321; SRA: SRS8225883', 'Infraspecies': 'strain: FDAARGOS_1321', 'Package': 'Pathogen: clinical or host-associated; version 1.0', 'SortKey': '120210209'}, attributes={'uid': '16357463'})], 'DbBuild': 'Build250218-0301m.1'}, attributes={'status': 'OK'})}\n"
     ]
    }
   ],
   "source": [
    "print(summ(\"BioSample\", \"16357463\"))\n",
    "print(src(\"SRA\", \"SRS8225883\"))\n",
    "print(summ(\"SRA\", \"13191254\"))\n"
   ]
  },
  {
   "cell_type": "code",
   "execution_count": null,
   "metadata": {},
   "outputs": [
    {
     "name": "stdout",
     "output_type": "stream",
     "text": [
      "{'Count': '2', 'RetMax': '2', 'RetStart': '0', 'IdList': ['13191254', '13191253'], 'TranslationSet': [], 'TranslationStack': [{'Term': 'SRS8225883[All Fields]', 'Field': 'All Fields', 'Count': '2', 'Explode': 'N'}, 'GROUP'], 'QueryTranslation': 'SRS8225883[All Fields]'}\n"
     ]
    }
   ],
   "source": []
  },
  {
   "cell_type": "code",
   "execution_count": null,
   "metadata": {},
   "outputs": [
    {
     "name": "stdout",
     "output_type": "stream",
     "text": [
      "[{'Item': [], 'Id': '13191254', 'ExpXml': '<Summary><Title>Other Sequencing of Klebsiella pneumoniae</Title><Platform instrument_model=\"Illumina NovaSeq 6000\">ILLUMINA</Platform><Statistics total_runs=\"1\" total_spots=\"8359289\" total_bases=\"2524505278\" total_size=\"872419337\" load_done=\"true\" cluster_name=\"public\"/></Summary><Submitter acc=\"SRA1194008\" center_name=\"UMIGS\" contact_name=\"Luke Tallon\" lab_name=\"Genomics Resource Center\"/><Experiment acc=\"SRX10063678\" ver=\"1\" status=\"public\" name=\"\"/><Study acc=\"SRP040661\" name=\"FDA-ARGOS is a database with public quality-controlled reference genomes for diagnostic use and regulatory science\"/><Organism taxid=\"573\" ScientificName=\"Klebsiella pneumoniae\"/><Sample acc=\"SRS8225883\" name=\"\"/><Instrument ILLUMINA=\"Illumina NovaSeq 6000\"/><Library_descriptor><LIBRARY_NAME>IL100148515</LIBRARY_NAME><LIBRARY_STRATEGY>WGS</LIBRARY_STRATEGY><LIBRARY_SOURCE>GENOMIC</LIBRARY_SOURCE><LIBRARY_SELECTION>RANDOM</LIBRARY_SELECTION><LIBRARY_LAYOUT> <PAIRED NOMINAL_LENGTH=\"545\" NOMINAL_SDEV=\"0.0E0\"/> </LIBRARY_LAYOUT><LIBRARY_CONSTRUCTION_PROTOCOL>UMIGS-GRC Illumina Construction Protocol Details</LIBRARY_CONSTRUCTION_PROTOCOL></Library_descriptor><Bioproject>PRJNA231221</Bioproject><Biosample>SAMN16357463</Biosample>', 'Runs': '<Run acc=\"SRR13674237\" total_spots=\"8359289\" total_bases=\"2524505278\" load_done=\"true\" is_public=\"true\" cluster_name=\"public\" static_data_available=\"true\"/>', 'ExtLinks': '', 'CreateDate': '2021/02/09', 'UpdateDate': '2021/02/09'}]\n"
     ]
    }
   ],
   "source": []
  },
  {
   "cell_type": "code",
   "execution_count": 49,
   "metadata": {},
   "outputs": [
    {
     "name": "stdout",
     "output_type": "stream",
     "text": [
      "144\n"
     ]
    }
   ],
   "source": [
    "print(str(summ(\"SRA\", \"13191253\")).lower().find(\"pacbio\"))"
   ]
  },
  {
   "cell_type": "code",
   "execution_count": 118,
   "metadata": {},
   "outputs": [
    {
     "ename": "SyntaxError",
     "evalue": "invalid syntax (823544578.py, line 2)",
     "output_type": "error",
     "traceback": [
      "\u001b[0;36m  Cell \u001b[0;32mIn[118], line 2\u001b[0;36m\u001b[0m\n\u001b[0;31m    testId =\u001b[0m\n\u001b[0m             ^\u001b[0m\n\u001b[0;31mSyntaxError\u001b[0m\u001b[0;31m:\u001b[0m invalid syntax\n"
     ]
    }
   ],
   "source": [
    "# find biosample ids\n",
    "testId = \n",
    "biosamples = src(\"BioSample\", test_Id)\n",
    "for x in biosamples[\"IdList\"]:\n",
    "    bio_summ = summ(\"BioSample\", x)\n",
    "    sample_data = bio_summ[\"DocumentSummarySet\"][\"DocumentSummary\"][0][\"SampleData\"]\n",
    "    str_start = sample_data.find('<Id db=\"SRA\">')\n",
    "    str_end = sample_data.find(\"</Ids>\")\n",
    "    offset =  1 + sample_data[str_start:str_end].find(\">\")\n",
    "    str_start += offset\n",
    "    str_end = str_start + sample_data[str_start:str_end].find(\"<\")\n",
    "    srs = sample_data[str_start:str_end]\n",
    "\n",
    "    sra_ids = src(\"SRA\", srs)\n",
    "    for y in sra_ids[\"IdList\"]:\n",
    "        sra_summ = summ(\"SRA\", y)\n",
    "        sra_info = str(sra_summ[0][\"ExpXml\"])\n",
    "        if str(sra_info).lower().find(\"illumina\") > 0:\n",
    "            print(sra_summ)\n",
    "            print(y, \"its ILLUMINA!\")\n",
    "            print(\"SRS:\", srs)\n",
    "            srx_off = sra_info.find(\"SRX\")\n",
    "            srx_len = sra_info[sra_info.find('SRX') : ].find('\"')\n",
    "            srx = sra_info[srx_off: srx_off + srx_len]\n",
    "            print(\"SRX:\", srx)\n",
    "            sra_off = sra_info.find(\"SRA\")\n",
    "            sra_len = sra_info[sra_info.find('SRA') : ].find('\"')\n",
    "            sra = sra_info[sra_off: sra_off + sra_len]\n",
    "            print(\"SRA:\", sra)\n",
    "        else:\n",
    "            print(y, \"no illumina, RIP\")"
   ]
  },
  {
   "cell_type": "code",
   "execution_count": null,
   "metadata": {},
   "outputs": [],
   "source": []
  }
 ],
 "metadata": {
  "kernelspec": {
   "display_name": ".venv",
   "language": "python",
   "name": "python3"
  },
  "language_info": {
   "codemirror_mode": {
    "name": "ipython",
    "version": 3
   },
   "file_extension": ".py",
   "mimetype": "text/x-python",
   "name": "python",
   "nbconvert_exporter": "python",
   "pygments_lexer": "ipython3",
   "version": "3.13.2"
  }
 },
 "nbformat": 4,
 "nbformat_minor": 2
}
